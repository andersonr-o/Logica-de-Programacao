{
  "nbformat": 4,
  "nbformat_minor": 0,
  "metadata": {
    "colab": {
      "provenance": [],
      "collapsed_sections": [],
      "authorship_tag": "ABX9TyOeLxcecih/RerZIPLvHFvH",
      "include_colab_link": true
    },
    "kernelspec": {
      "name": "python3",
      "display_name": "Python 3"
    },
    "language_info": {
      "name": "python"
    }
  },
  "cells": [
    {
      "cell_type": "markdown",
      "metadata": {
        "id": "view-in-github",
        "colab_type": "text"
      },
      "source": [
        "<a href=\"https://colab.research.google.com/github/andersonr-o/Logica-de-Programacao/blob/main/pizzaria.ipynb\" target=\"_parent\"><img src=\"https://colab.research.google.com/assets/colab-badge.svg\" alt=\"Open In Colab\"/></a>"
      ]
    },
    {
      "cell_type": "code",
      "source": [
        "tamanho = input('Entre com o tamanho da pizza: (M/G) ')\n",
        "codigo = int(input('Qual é o código do produto? '))\n",
        "if codigo == 21 and tamanho == 'm' or tamanho == 'M':\n",
        "  preco = 20\n",
        "elif codigo == 21 and tamanho == 'g' or tamanho == 'G':\n",
        "  preco = 26\n",
        "if codigo == 22 and tamanho == 'm' or tamanho == 'M':\n",
        "  preco = 20\n",
        "elif codigo == 22 and tamanho == 'g' or tamanho == 'G':\n",
        "  preco = 26\n",
        "if codigo == 23 and tamanho == 'm' or tamanho == 'M':\n",
        "  preco = 25\n",
        "elif codigo == 23 and tamanho == 'g' or tamanho == 'G':\n",
        "  preco = 32.50\n",
        "if codigo == 24 and tamanho == 'm' or tamanho == 'M':\n",
        "  preco = 30\n",
        "elif codigo == 24 and tamanho == 'g' or tamanho == 'G':\n",
        "  preco = 39\n",
        "if codigo == 25 and tamanho == 'm' or tamanho == 'M':\n",
        "  preco = 30\n",
        "elif codigo == 25 and tamanho == 'g' or tamanho == 'G':\n",
        "  preco = 39\n",
        "if tamanho != 'm' and tamanho != 'M' and tamanho != 'g' and tamanho != 'G' or codigo != 21 and codigo != 22 and codigo != 23 and codigo != 24 and codigo != 25:\n",
        "  while tamanho != 'm' and tamanho != 'M' and tamanho != 'g' and tamanho != 'G' or codigo != 21 and codigo != 22 and codigo != 23 and codigo != 24 and codigo != 25:\n",
        "    print('Operação Inválida')\n",
        "    tamanho = input('Entre com o tamanho da pizza: (M/G)')\n",
        "    codigo = int(input('Qual é o código do produto? '))\n",
        "algo_mais = input('Quer pedir mais alguma coisa? ')\n",
        "while algo_mais == 's' or algo_mais == 'S' or algo_mais == 'sim' or algo_mais == 'Sim' or algo_mais == 'SIM':\n",
        "    tamanho = input('Entre com o tamanho da pizza: (M/G)')\n",
        "    codigo = int(input('Qual é o código do produto? '))\n",
        "    if codigo == 21 and tamanho == 'm' or tamanho == 'M':\n",
        "      preco += 20\n",
        "    elif codigo == 21 and tamanho == 'g' or tamanho == 'G':\n",
        "      preco += 26\n",
        "    if codigo == 22 and tamanho == 'm' or tamanho == 'M':\n",
        "      preco += 20\n",
        "    elif codigo == 22 and tamanho == 'g' or tamanho == 'G':\n",
        "      preco += 26\n",
        "    if codigo == 23 and tamanho == 'm' or tamanho == 'M':\n",
        "      preco += 25\n",
        "    elif codigo == 23 and tamanho == 'g' or tamanho == 'G':\n",
        "      preco += 32.50\n",
        "    if codigo == 24 and tamanho == 'm' or tamanho == 'M':\n",
        "      preco += 30\n",
        "    elif codigo == 24 and tamanho == 'g' or tamanho == 'G':\n",
        "      preco += 39\n",
        "    if codigo == 25 and tamanho == 'm' or tamanho == 'M':\n",
        "      preco += 30\n",
        "    elif codigo == 25 and tamanho == 'g' or tamanho == 'G':\n",
        "      preco += 39\n",
        "    algo_mais = input('Quer pedir mais alguma coisa? ')\n",
        "    if tamanho != 'm' and tamanho != 'M' and tamanho != 'g' and tamanho != 'G' or codigo != 21 and codigo != 22 and codigo != 23 and codigo != 24 and codigo != 25:\n",
        "      while tamanho != 'm' and tamanho != 'M' and tamanho != 'g' and tamanho != 'G' or codigo != 21 and codigo != 22 and codigo != 23 and codigo != 24 and codigo != 25:\n",
        "        print('Operação Inválida')\n",
        "        tamanho = input('Entre com o tamanho da pizza: (M/G)')\n",
        "        codigo = int(input('Qual é o código do produto? '))\n",
        "else:    \n",
        "    print(f'Compra finalizada, o valor ficou R${preco}')"
      ],
      "metadata": {
        "colab": {
          "base_uri": "https://localhost:8080/"
        },
        "id": "yXfK2skb2yNr",
        "outputId": "5b03185c-2255-41cd-c30f-9fe5503c21b6"
      },
      "execution_count": null,
      "outputs": [
        {
          "output_type": "stream",
          "name": "stdout",
          "text": [
            "Entre com o tamanho da pizza: (M/G) m\n",
            "Qual é o código do produto? 23\n",
            "Quer pedir mais alguma coisa? s\n",
            "Entre com o tamanho da pizza: (M/G)g\n",
            "Qual é o código do produto? 25\n",
            "Quer pedir mais alguma coisa? s\n",
            "Entre com o tamanho da pizza: (M/G)m\n",
            "Qual é o código do produto? 23\n",
            "Quer pedir mais alguma coisa? n\n",
            "Compra finalizada, o valor ficou R$89\n"
          ]
        }
      ]
    }
  ]
}