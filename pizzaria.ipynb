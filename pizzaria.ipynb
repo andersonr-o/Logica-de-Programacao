{
  "nbformat": 4,
  "nbformat_minor": 0,
  "metadata": {
    "colab": {
      "provenance": [],
      "collapsed_sections": [],
      "authorship_tag": "ABX9TyOC8oihQKLYKSyhitxrrHHu",
      "include_colab_link": true
    },
    "kernelspec": {
      "name": "python3",
      "display_name": "Python 3"
    },
    "language_info": {
      "name": "python"
    }
  },
  "cells": [
    {
      "cell_type": "markdown",
      "metadata": {
        "id": "view-in-github",
        "colab_type": "text"
      },
      "source": [
        "<a href=\"https://colab.research.google.com/github/andersonr-o/Logica-de-Programacao/blob/main/pizzaria.ipynb\" target=\"_parent\"><img src=\"https://colab.research.google.com/assets/colab-badge.svg\" alt=\"Open In Colab\"/></a>"
      ]
    },
    {
      "cell_type": "code",
      "execution_count": null,
      "metadata": {
        "colab": {
          "base_uri": "https://localhost:8080/",
          "height": 450
        },
        "id": "aB5_5jhXubSz",
        "outputId": "cbd1b224-a15b-46e9-fe3d-7c888c48294a"
      },
      "outputs": [
        {
          "name": "stdout",
          "output_type": "stream",
          "text": [
            "Entre com o tamanho da pizza: (M/G)m\n",
            "Qual é o código do produto? 21\n",
            "Quer pedir mais alguma coisa? s\n",
            "Quer pedir mais alguma coisa? s\n"
          ]
        },
        {
          "output_type": "error",
          "ename": "KeyboardInterrupt",
          "evalue": "ignored",
          "traceback": [
            "\u001b[0;31m---------------------------------------------------------------------------\u001b[0m",
            "\u001b[0;31mKeyboardInterrupt\u001b[0m                         Traceback (most recent call last)",
            "\u001b[0;32m<ipython-input-72-56d006a61bae>\u001b[0m in \u001b[0;36m<module>\u001b[0;34m\u001b[0m\n\u001b[1;32m     11\u001b[0m   \u001b[0malgo_mais\u001b[0m \u001b[0;34m=\u001b[0m \u001b[0minput\u001b[0m\u001b[0;34m(\u001b[0m\u001b[0;34m'Quer pedir mais alguma coisa? '\u001b[0m\u001b[0;34m)\u001b[0m\u001b[0;34m\u001b[0m\u001b[0;34m\u001b[0m\u001b[0m\n\u001b[1;32m     12\u001b[0m   \u001b[0;32mif\u001b[0m \u001b[0malgo_mais\u001b[0m \u001b[0;34m==\u001b[0m \u001b[0;34m's'\u001b[0m \u001b[0;32mor\u001b[0m \u001b[0malgo_mais\u001b[0m \u001b[0;34m==\u001b[0m \u001b[0;34m'S'\u001b[0m \u001b[0;32mor\u001b[0m \u001b[0malgo_mais\u001b[0m \u001b[0;34m==\u001b[0m \u001b[0;34m'sim'\u001b[0m \u001b[0;32mor\u001b[0m \u001b[0malgo_mais\u001b[0m \u001b[0;34m==\u001b[0m \u001b[0;34m'Sim'\u001b[0m \u001b[0;32mor\u001b[0m \u001b[0malgo_mais\u001b[0m \u001b[0;34m==\u001b[0m \u001b[0;34m'SIM'\u001b[0m\u001b[0;34m:\u001b[0m\u001b[0;34m\u001b[0m\u001b[0;34m\u001b[0m\u001b[0m\n\u001b[0;32m---> 13\u001b[0;31m     \u001b[0mtamanho\u001b[0m \u001b[0;34m=\u001b[0m \u001b[0minput\u001b[0m\u001b[0;34m(\u001b[0m\u001b[0;34m'Entre com o tamanho da pizza: '\u001b[0m\u001b[0;34m)\u001b[0m\u001b[0;34m\u001b[0m\u001b[0;34m\u001b[0m\u001b[0m\n\u001b[0m\u001b[1;32m     14\u001b[0m     \u001b[0mcodigo\u001b[0m \u001b[0;34m=\u001b[0m \u001b[0mint\u001b[0m\u001b[0;34m(\u001b[0m\u001b[0minput\u001b[0m\u001b[0;34m(\u001b[0m\u001b[0;34m'Qual é o código do produto? '\u001b[0m\u001b[0;34m)\u001b[0m\u001b[0;34m)\u001b[0m\u001b[0;34m\u001b[0m\u001b[0;34m\u001b[0m\u001b[0m\n\u001b[1;32m     15\u001b[0m   \u001b[0;32melse\u001b[0m\u001b[0;34m:\u001b[0m\u001b[0;34m\u001b[0m\u001b[0;34m\u001b[0m\u001b[0m\n",
            "\u001b[0;32m/usr/local/lib/python3.7/dist-packages/ipykernel/kernelbase.py\u001b[0m in \u001b[0;36mraw_input\u001b[0;34m(self, prompt)\u001b[0m\n\u001b[1;32m    861\u001b[0m             \u001b[0mself\u001b[0m\u001b[0;34m.\u001b[0m\u001b[0m_parent_ident\u001b[0m\u001b[0;34m,\u001b[0m\u001b[0;34m\u001b[0m\u001b[0;34m\u001b[0m\u001b[0m\n\u001b[1;32m    862\u001b[0m             \u001b[0mself\u001b[0m\u001b[0;34m.\u001b[0m\u001b[0m_parent_header\u001b[0m\u001b[0;34m,\u001b[0m\u001b[0;34m\u001b[0m\u001b[0;34m\u001b[0m\u001b[0m\n\u001b[0;32m--> 863\u001b[0;31m             \u001b[0mpassword\u001b[0m\u001b[0;34m=\u001b[0m\u001b[0;32mFalse\u001b[0m\u001b[0;34m,\u001b[0m\u001b[0;34m\u001b[0m\u001b[0;34m\u001b[0m\u001b[0m\n\u001b[0m\u001b[1;32m    864\u001b[0m         )\n\u001b[1;32m    865\u001b[0m \u001b[0;34m\u001b[0m\u001b[0m\n",
            "\u001b[0;32m/usr/local/lib/python3.7/dist-packages/ipykernel/kernelbase.py\u001b[0m in \u001b[0;36m_input_request\u001b[0;34m(self, prompt, ident, parent, password)\u001b[0m\n\u001b[1;32m    902\u001b[0m             \u001b[0;32mexcept\u001b[0m \u001b[0mKeyboardInterrupt\u001b[0m\u001b[0;34m:\u001b[0m\u001b[0;34m\u001b[0m\u001b[0;34m\u001b[0m\u001b[0m\n\u001b[1;32m    903\u001b[0m                 \u001b[0;31m# re-raise KeyboardInterrupt, to truncate traceback\u001b[0m\u001b[0;34m\u001b[0m\u001b[0;34m\u001b[0m\u001b[0;34m\u001b[0m\u001b[0m\n\u001b[0;32m--> 904\u001b[0;31m                 \u001b[0;32mraise\u001b[0m \u001b[0mKeyboardInterrupt\u001b[0m\u001b[0;34m(\u001b[0m\u001b[0;34m\"Interrupted by user\"\u001b[0m\u001b[0;34m)\u001b[0m \u001b[0;32mfrom\u001b[0m \u001b[0;32mNone\u001b[0m\u001b[0;34m\u001b[0m\u001b[0;34m\u001b[0m\u001b[0m\n\u001b[0m\u001b[1;32m    905\u001b[0m             \u001b[0;32mexcept\u001b[0m \u001b[0mException\u001b[0m \u001b[0;32mas\u001b[0m \u001b[0me\u001b[0m\u001b[0;34m:\u001b[0m\u001b[0;34m\u001b[0m\u001b[0;34m\u001b[0m\u001b[0m\n\u001b[1;32m    906\u001b[0m                 \u001b[0mself\u001b[0m\u001b[0;34m.\u001b[0m\u001b[0mlog\u001b[0m\u001b[0;34m.\u001b[0m\u001b[0mwarning\u001b[0m\u001b[0;34m(\u001b[0m\u001b[0;34m\"Invalid Message:\"\u001b[0m\u001b[0;34m,\u001b[0m \u001b[0mexc_info\u001b[0m\u001b[0;34m=\u001b[0m\u001b[0;32mTrue\u001b[0m\u001b[0;34m)\u001b[0m\u001b[0;34m\u001b[0m\u001b[0;34m\u001b[0m\u001b[0m\n",
            "\u001b[0;31mKeyboardInterrupt\u001b[0m: Interrupted by user"
          ]
        }
      ],
      "source": [
        "tamanho = input('Entre com o tamanho da pizza: (M/G)')\n",
        "codigo = int(input('Qual é o código do produto? '))\n",
        "\n",
        "if tamanho != 'm' and tamanho != 'M' and tamanho != 'g' and tamanho != 'G' or codigo != 21 and codigo != 22 and codigo != 23 and codigo != 24 and codigo != 25:\n",
        "  while tamanho != 'm' and tamanho != 'M' and tamanho != 'g' and tamanho != 'G' or codigo != 21 and codigo != 22 and codigo != 23 and codigo != 24 and codigo != 25:\n",
        "    print('Operação Inválida')\n",
        "    tamanho = input('Entre com o tamanho da pizza: (M/G)')\n",
        "    codigo = int(input('Qual é o código do produto? '))\n",
        "algo_mais = input('Quer pedir mais alguma coisa? ')\n",
        "while algo_mais == 's' or algo_mais == 'S' or algo_mais == 'sim' or algo_mais == 'Sim' or algo_mais == 'SIM':\n",
        "  algo_mais = input('Quer pedir mais alguma coisa? ')\n",
        "  if algo_mais == 's' or algo_mais == 'S' or algo_mais == 'sim' or algo_mais == 'Sim' or algo_mais == 'SIM':\n",
        "    tamanho = input('Entre com o tamanho da pizza: ')\n",
        "    codigo = int(input('Qual é o código do produto? '))\n",
        "  else:\n",
        "    print('Compra finalizada, o valor ficou R$')\n"
      ]
    },
    {
      "cell_type": "code",
      "source": [
        "tamanho = input('Entre com o tamanho da pizza: (M/G) ')\n",
        "codigo = int(input('Qual é o código do produto? '))\n",
        "if codigo == 21 and tamanho == 'm' or tamanho == 'M':\n",
        "  preco = 20\n",
        "elif codigo == 21 and tamanho == 'g' or tamanho == 'G':\n",
        "  preco = 26\n",
        "if codigo == 22 and tamanho == 'm' or tamanho == 'M':\n",
        "  preco = 20\n",
        "elif codigo == 22 and tamanho == 'g' or tamanho == 'G':\n",
        "  preco = 26\n",
        "if codigo == 23 and tamanho == 'm' or tamanho == 'M':\n",
        "  preco = 25\n",
        "elif codigo == 23 and tamanho == 'g' or tamanho == 'G':\n",
        "  preco = 32.50\n",
        "if codigo == 24 and tamanho == 'm' or tamanho == 'M':\n",
        "  preco = 30\n",
        "elif codigo == 24 and tamanho == 'g' or tamanho == 'G':\n",
        "  preco = 39\n",
        "if codigo == 25 and tamanho == 'm' or tamanho == 'M':\n",
        "  preco = 30\n",
        "elif codigo == 25 and tamanho == 'g' or tamanho == 'G':\n",
        "  preco = 39\n",
        "if tamanho != 'm' and tamanho != 'M' and tamanho != 'g' and tamanho != 'G' or codigo != 21 and codigo != 22 and codigo != 23 and codigo != 24 and codigo != 25:\n",
        "  while tamanho != 'm' and tamanho != 'M' and tamanho != 'g' and tamanho != 'G' or codigo != 21 and codigo != 22 and codigo != 23 and codigo != 24 and codigo != 25:\n",
        "    print('Operação Inválida')\n",
        "    tamanho = input('Entre com o tamanho da pizza: (M/G)')\n",
        "    codigo = int(input('Qual é o código do produto? '))\n",
        "algo_mais = input('Quer pedir mais alguma coisa? ')\n",
        "while algo_mais == 's' or algo_mais == 'S' or algo_mais == 'sim' or algo_mais == 'Sim' or algo_mais == 'SIM':\n",
        "    tamanho = input('Entre com o tamanho da pizza: (M/G)')\n",
        "    codigo = int(input('Qual é o código do produto? '))\n",
        "    if codigo == 21 and tamanho == 'm' or tamanho == 'M':\n",
        "      preco += 20\n",
        "    elif codigo == 21 and tamanho == 'g' or tamanho == 'G':\n",
        "      preco += 26\n",
        "    if codigo == 22 and tamanho == 'm' or tamanho == 'M':\n",
        "      preco += 20\n",
        "    elif codigo == 22 and tamanho == 'g' or tamanho == 'G':\n",
        "      preco += 26\n",
        "    if codigo == 23 and tamanho == 'm' or tamanho == 'M':\n",
        "      preco += 25\n",
        "    elif codigo == 23 and tamanho == 'g' or tamanho == 'G':\n",
        "      preco += 32.50\n",
        "    if codigo == 24 and tamanho == 'm' or tamanho == 'M':\n",
        "      preco += 30\n",
        "    elif codigo == 24 and tamanho == 'g' or tamanho == 'G':\n",
        "      preco += 39\n",
        "    if codigo == 25 and tamanho == 'm' or tamanho == 'M':\n",
        "      preco += 30\n",
        "    elif codigo == 25 and tamanho == 'g' or tamanho == 'G':\n",
        "      preco += 39\n",
        "    algo_mais = input('Quer pedir mais alguma coisa? ')\n",
        "    if tamanho != 'm' and tamanho != 'M' and tamanho != 'g' and tamanho != 'G' or codigo != 21 and codigo != 22 and codigo != 23 and codigo != 24 and codigo != 25:\n",
        "      while tamanho != 'm' and tamanho != 'M' and tamanho != 'g' and tamanho != 'G' or codigo != 21 and codigo != 22 and codigo != 23 and codigo != 24 and codigo != 25:\n",
        "        print('Operação Inválida')\n",
        "        tamanho = input('Entre com o tamanho da pizza: (M/G)')\n",
        "        codigo = int(input('Qual é o código do produto? '))\n",
        "else:    \n",
        "    print(f'Compra finalizada, o valor ficou R${preco}')"
      ],
      "metadata": {
        "colab": {
          "base_uri": "https://localhost:8080/"
        },
        "id": "yXfK2skb2yNr",
        "outputId": "5b03185c-2255-41cd-c30f-9fe5503c21b6"
      },
      "execution_count": null,
      "outputs": [
        {
          "output_type": "stream",
          "name": "stdout",
          "text": [
            "Entre com o tamanho da pizza: (M/G) m\n",
            "Qual é o código do produto? 23\n",
            "Quer pedir mais alguma coisa? s\n",
            "Entre com o tamanho da pizza: (M/G)g\n",
            "Qual é o código do produto? 25\n",
            "Quer pedir mais alguma coisa? s\n",
            "Entre com o tamanho da pizza: (M/G)m\n",
            "Qual é o código do produto? 23\n",
            "Quer pedir mais alguma coisa? n\n",
            "Compra finalizada, o valor ficou R$89\n"
          ]
        }
      ]
    }
  ]
}